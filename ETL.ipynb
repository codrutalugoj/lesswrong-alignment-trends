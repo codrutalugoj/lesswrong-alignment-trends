{
 "cells": [
  {
   "cell_type": "markdown",
   "metadata": {
    "application/vnd.databricks.v1+cell": {
     "cellMetadata": {},
     "inputWidgets": {},
     "nuid": "96816ed7-b08a-4ca3-abb9-f99880c3535d",
     "showTitle": false,
     "tableResultSettingsMap": {},
     "title": ""
    }
   },
   "source": [
    "\n",
    "## ELT on Databricks\n",
    "This is a simple ELT pipeline.\n",
    "I first get the raw scraped data that's stored in an AWS S3 bucket, then filter out the posts with a \"Site Meta\" tag using a SQL query (since I don't care about having those in our visualisation). I then save the table in the Unity Catalog on Databricks to be used later on."
   ]
  },
  {
   "cell_type": "code",
   "execution_count": 0,
   "metadata": {
    "application/vnd.databricks.v1+cell": {
     "cellMetadata": {
      "byteLimit": 2048000,
      "rowLimit": 10000
     },
     "inputWidgets": {},
     "nuid": "d7bc61cc-e42f-4e8c-a6f5-0f8e6628ada9",
     "showTitle": false,
     "tableResultSettingsMap": {},
     "title": ""
    }
   },
   "outputs": [
    {
     "name": "stdout",
     "output_type": "stream",
     "text": [
      "Collecting python-dotenv\r\n",
      "  Downloading python_dotenv-1.0.1-py3-none-any.whl (19 kB)\r\n",
      "Installing collected packages: python-dotenv\r\n",
      "Successfully installed python-dotenv-1.0.1\r\n",
      "\u001b[33mWARNING: You are using pip version 21.2.4; however, version 25.0.1 is available.\r\n",
      "You should consider upgrading via the '/local_disk0/.ephemeral_nfs/envs/pythonEnv-e566e957-e220-49cf-85cf-d1ff99e377f2/bin/python -m pip install --upgrade pip' command.\u001b[0m\r\n"
     ]
    }
   ],
   "source": [
    "try:\n",
    "    import dotenv\n",
    "except:\n",
    "    !pip install python-dotenv\n",
    "import dotenv\n",
    "from dotenv import load_dotenv\n",
    "import os"
   ]
  },
  {
   "cell_type": "code",
   "execution_count": 0,
   "metadata": {
    "application/vnd.databricks.v1+cell": {
     "cellMetadata": {
      "byteLimit": 2048000,
      "rowLimit": 10000
     },
     "inputWidgets": {},
     "nuid": "c2dc4775-af9d-41a7-8e3c-2983cdb85941",
     "showTitle": false,
     "tableResultSettingsMap": {},
     "title": ""
    }
   },
   "outputs": [],
   "source": [
    "AWS_ACCESS = '<redacted>'\n",
    "AWS_SECRET = '<redacted>'\n",
    "access_key = os.getenv(\"AWS_ACCESS\")\n",
    "secret_key = os.getenv(\"AWS_SECRET\")\n",
    "sc._jsc.hadoopConfiguration().set(\"fs.s3a.access.key\", AWS_ACCESS)\n",
    "sc._jsc.hadoopConfiguration().set(\"fs.s3a.secret.key\", AWS_SECRET)\n",
    "\n",
    "aws_region = \"eu-north-1\"\n",
    "sc._jsc.hadoopConfiguration().set(\"fs.s3a.endpoint\", \"s3.\" + aws_region + \".amazonaws.com\")\n",
    "file_path = 's3://lesswrong-data-feb-2025/lesswrong_posts_20250222_201800.json'"
   ]
  },
  {
   "cell_type": "code",
   "execution_count": 0,
   "metadata": {
    "application/vnd.databricks.v1+cell": {
     "cellMetadata": {
      "byteLimit": 2048000,
      "rowLimit": 10000
     },
     "inputWidgets": {},
     "nuid": "0a3df5ab-0cd9-46d6-b496-6a5291fbaa72",
     "showTitle": false,
     "tableResultSettingsMap": {},
     "title": ""
    }
   },
   "outputs": [
    {
     "name": "stdout",
     "output_type": "stream",
     "text": [
      "Out[3]: Row(posts=[Row(author_links=['/users/ruby?from=post_header', '/users/raemon?from=post_header', '/users/t3t?from=post_header', '/users/habryka4?from=post_header'], author_names=['Ruby', 'Raemon', 'RobertM', 'habryka'], post_karma='444', tags=['Site Meta', 'AI'], title='Welcome to LessWrong!', url='https://www.lesswrong.com/posts/bJ2haLkcGeLtTWaD5/welcome-to-lesswrong'), Row(author_links=['/users/joshc?from=post_header'], author_names=['joshc'], post_karma='344', tags=['Fiction', 'AI Risk', 'AI Risk Concrete Stories', 'AI Timelines', 'AI'], title='How AI Takeover Might Happen in 2 Years', url='https://www.lesswrong.com/posts/KFJ2LFogYqzfGB3uX/how-ai-takeover-might-happen-in-2-years'), Row(author_links=['/users/buck?from=post_header'], author_names=['Buck'], post_karma='124', tags=['History', 'Politics', 'Fact posts', 'Scholarship & Learning', 'World Modeling'], title='Some articles in “International Security” that I enjoyed', url='https://www.lesswrong.com/posts/MEfhRvpKPadJLTuTk/some-articles-in-international-security-that-i-enjoyed'), Row(author_links=['/users/genesmith?from=post_header', '/users/kman?from=post_header'], author_names=['GeneSmith', 'kman'], post_karma='402', tags=['Biology', 'Human Genetics', 'Startups', 'World Optimization'], title='How to Make Superbabies', url='https://www.lesswrong.com/posts/DfrSZaf3JC8vJdbZL/how-to-make-superbabies'), Row(author_links=['/users/t3t?from=post_header', '/users/jimrandomh?from=post_header', '/users/benito?from=post_header', '/users/ruby?from=post_header'], author_names=['RobertM', 'jimrandomh', 'Ben Pace', 'Ruby'], post_karma='231', tags=['Site Meta'], title='Arbital has been imported to LessWrong', url='https://www.lesswrong.com/posts/fwSnz5oNnq8HxQjTL/arbital-has-been-imported-to-lesswrong')], timestamp='20250222_201744')"
     ]
    }
   ],
   "source": [
    "df = spark.read.option(\"multiline\", \"true\").json(file_path)\n",
    "df.head()"
   ]
  },
  {
   "cell_type": "code",
   "execution_count": 0,
   "metadata": {
    "application/vnd.databricks.v1+cell": {
     "cellMetadata": {
      "byteLimit": 2048000,
      "rowLimit": 10000
     },
     "inputWidgets": {},
     "nuid": "bd82bb99-1479-4d5c-be10-8c36df0f1d44",
     "showTitle": false,
     "tableResultSettingsMap": {},
     "title": ""
    }
   },
   "outputs": [],
   "source": [
    "# Create a view or table\n",
    "trends = \"trends\"\n",
    "df.createOrReplaceTempView(trends)"
   ]
  },
  {
   "cell_type": "code",
   "execution_count": 0,
   "metadata": {
    "application/vnd.databricks.v1+cell": {
     "cellMetadata": {
      "byteLimit": 2048000,
      "implicitDf": true,
      "rowLimit": 10000
     },
     "inputWidgets": {},
     "nuid": "b5f66379-6f7f-42ec-8e82-d0e0926a1721",
     "showTitle": false,
     "tableResultSettingsMap": {},
     "title": ""
    }
   },
   "outputs": [
    {
     "data": {
      "text/html": [
       "<style scoped>\n",
       "  .table-result-container {\n",
       "    max-height: 300px;\n",
       "    overflow: auto;\n",
       "  }\n",
       "  table, th, td {\n",
       "    border: 1px solid black;\n",
       "    border-collapse: collapse;\n",
       "  }\n",
       "  th, td {\n",
       "    padding: 5px;\n",
       "  }\n",
       "  th {\n",
       "    text-align: left;\n",
       "  }\n",
       "</style><div class='table-result-container'><table class='table-result'><thead style='background-color: white'><tr><th>title</th><th>author_names</th><th>tags</th><th>karma</th></tr></thead><tbody><tr><td>How AI Takeover Might Happen in 2 Years</td><td>List(joshc)</td><td>List(Fiction, AI Risk, AI Risk Concrete Stories, AI Timelines, AI)</td><td>344</td></tr><tr><td>Some articles in “International Security” that I enjoyed</td><td>List(Buck)</td><td>List(History, Politics, Fact posts, Scholarship & Learning, World Modeling)</td><td>124</td></tr><tr><td>How to Make Superbabies</td><td>List(GeneSmith, kman)</td><td>List(Biology, Human Genetics, Startups, World Optimization)</td><td>402</td></tr></tbody></table></div>"
      ]
     },
     "metadata": {
      "application/vnd.databricks.v1+output": {
       "addedWidgets": {},
       "aggData": [],
       "aggError": "",
       "aggOverflow": false,
       "aggSchema": [],
       "aggSeriesLimitReached": false,
       "aggType": "",
       "arguments": {},
       "columnCustomDisplayInfos": {},
       "data": [
        [
         "How AI Takeover Might Happen in 2 Years",
         [
          "joshc"
         ],
         [
          "Fiction",
          "AI Risk",
          "AI Risk Concrete Stories",
          "AI Timelines",
          "AI"
         ],
         "344"
        ],
        [
         "Some articles in “International Security” that I enjoyed",
         [
          "Buck"
         ],
         [
          "History",
          "Politics",
          "Fact posts",
          "Scholarship & Learning",
          "World Modeling"
         ],
         "124"
        ],
        [
         "How to Make Superbabies",
         [
          "GeneSmith",
          "kman"
         ],
         [
          "Biology",
          "Human Genetics",
          "Startups",
          "World Optimization"
         ],
         "402"
        ]
       ],
       "datasetInfos": [],
       "dbfsResultPath": null,
       "isJsonSchema": true,
       "metadata": {},
       "overflow": false,
       "plotOptions": {
        "customPlotOptions": {},
        "displayType": "table",
        "pivotAggregation": null,
        "pivotColumns": null,
        "xColumns": null,
        "yColumns": null
       },
       "removedWidgets": [],
       "schema": [
        {
         "metadata": "{}",
         "name": "title",
         "type": "\"string\""
        },
        {
         "metadata": "{}",
         "name": "author_names",
         "type": "{\"type\":\"array\",\"elementType\":\"string\",\"containsNull\":true}"
        },
        {
         "metadata": "{}",
         "name": "tags",
         "type": "{\"type\":\"array\",\"elementType\":\"string\",\"containsNull\":true}"
        },
        {
         "metadata": "{}",
         "name": "karma",
         "type": "\"string\""
        }
       ],
       "type": "table"
      }
     },
     "output_type": "display_data"
    }
   ],
   "source": [
    "%sql\n",
    "\n",
    "select \n",
    "    post.title, \n",
    "    post.author_names, \n",
    "    post.tags as tags, \n",
    "    post.post_karma as karma\n",
    "from trends \n",
    "LATERAL VIEW EXPLODE(posts) as post\n",
    "WHERE NOT array_contains(post.tags, \"Site Meta\") "
   ]
  },
  {
   "cell_type": "code",
   "execution_count": 0,
   "metadata": {
    "application/vnd.databricks.v1+cell": {
     "cellMetadata": {
      "byteLimit": 2048000,
      "rowLimit": 10000
     },
     "inputWidgets": {},
     "nuid": "db9631f6-bb4a-42ca-8a3c-0d48af932331",
     "showTitle": false,
     "tableResultSettingsMap": {},
     "title": ""
    }
   },
   "outputs": [],
   "source": [
    "# persist the table \n",
    "_sqldf.write.mode(\"overwrite\").saveAsTable(\"lesswrong_trends\")\n"
   ]
  }
 ],
 "metadata": {
  "application/vnd.databricks.v1+notebook": {
   "computePreferences": null,
   "dashboards": [],
   "environmentMetadata": null,
   "language": "python",
   "notebookMetadata": {
    "mostRecentlyExecutedCommandWithImplicitDF": {
     "commandId": 2730997261033684,
     "dataframes": [
      "_sqldf"
     ]
    },
    "pythonIndentUnit": 4
   },
   "notebookName": "S3 Connection",
   "widgets": {}
  },
  "language_info": {
   "name": "python"
  }
 },
 "nbformat": 4,
 "nbformat_minor": 0
}
